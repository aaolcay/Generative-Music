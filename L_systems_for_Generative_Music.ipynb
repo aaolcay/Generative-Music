{
  "nbformat": 4,
  "nbformat_minor": 0,
  "metadata": {
    "colab": {
      "provenance": [],
      "authorship_tag": "ABX9TyP52K8NGZK4Q6bTcMNsCWBK",
      "include_colab_link": true
    },
    "kernelspec": {
      "name": "python3",
      "display_name": "Python 3"
    },
    "language_info": {
      "name": "python"
    }
  },
  "cells": [
    {
      "cell_type": "markdown",
      "metadata": {
        "id": "view-in-github",
        "colab_type": "text"
      },
      "source": [
        "<a href=\"https://colab.research.google.com/github/aaolcay/Generative-Music/blob/main/L_systems_for_Generative_Music.ipynb\" target=\"_parent\"><img src=\"https://colab.research.google.com/assets/colab-badge.svg\" alt=\"Open In Colab\"/></a>"
      ]
    },
    {
      "cell_type": "markdown",
      "source": [
        "##**Enter the axiom and rules**\n",
        "\n",
        "This code was written after watching Valerio Velardo's [tutorials](https://youtu.be/NpJWprrqlFw?si=YCndgI-W9ozgDb_3) on YouTube. Please follow him for having more information. This code is quite simplified to be understood how L-systems work for chord progression.\n",
        "\n",
        "For any further question, contact me. If you are sharing or using the code, please refer both me (Abdullah Olcay, University of Southampton) and Valerio Velardo, The Sound of AI."
      ],
      "metadata": {
        "id": "2b6OAzJzAIIO"
      }
    },
    {
      "cell_type": "code",
      "execution_count": 1,
      "metadata": {
        "id": "EMviwDEoADui"
      },
      "outputs": [],
      "source": [
        "axiom = 'F'\n",
        "rules = {'A': 'ABC',\n",
        "         'B':'BA',\n",
        "         'C': 'EF',\n",
        "         'F': 'GFD'}"
      ]
    },
    {
      "cell_type": "markdown",
      "source": [
        "###**This production rule will be applied in 'n' iteration**: L-System Chord Progression"
      ],
      "metadata": {
        "id": "oSyG6gQiAmJk"
      }
    },
    {
      "cell_type": "code",
      "source": [
        "import music21 as m21\n",
        "m21.environment.set('musicxmlPath', '/dev/null')  # Disable musicXML conversion\n",
        "chord = m21.chord\n",
        "metadata = m21.metadata\n",
        "stream = m21.stream"
      ],
      "metadata": {
        "id": "I0saB1qjZRia"
      },
      "execution_count": 2,
      "outputs": []
    },
    {
      "cell_type": "code",
      "source": [
        "class L_system:\n",
        "  def __init__(self, axiom, rules, iter=5, listen=True):\n",
        "    self.axiom = axiom\n",
        "    self.rules = rules\n",
        "    self.iter = iter\n",
        "    output = self.L_systems()\n",
        "    if listen:\n",
        "      self.chord_object_gen()\n",
        "      self.listen_chords()\n",
        "\n",
        "  def L_systems(self):\n",
        "    starting = self.axiom\n",
        "    for i in range(self.iter):\n",
        "      list_key = list(starting)\n",
        "      rule_applied = []\n",
        "      for val in list_key:\n",
        "        value_item = self.rules.get(val,val)\n",
        "        rule_applied.append(value_item)\n",
        "\n",
        "      self.output = \"\".join(rule_applied)\n",
        "      print(f\"level {i+1} output {self.output}\")\n",
        "      starting = self.output\n",
        "    return self.output\n",
        "\n",
        "  def chord_object_gen(self):\n",
        "    L_system_generated = self.output\n",
        "    chord_dict = {\n",
        "        \"C\": [\"C\", \"E\", \"G\"],  # Cmaj\n",
        "        \"D\": [\"D\", \"F\", \"A\"],  # Dmin\n",
        "        \"E\": [\"E\", \"G\", \"B\"],  # Emin\n",
        "        \"F\": [\"F\", \"A\", \"C\"],  # Fmaj\n",
        "        \"G\": [\"G\", \"B\", \"D\"],  # Gmaj\n",
        "        \"A\": [\"A\", \"C\", \"E\"],  # Amin\n",
        "        \"B\": [\"B\", \"D\", \"F\"],  # Bdim\n",
        "    }\n",
        "    music_chords = []\n",
        "    for chord_name in L_system_generated:\n",
        "      if chord_name in chord_dict:\n",
        "        chord_pitches = chord_dict[chord_name]\n",
        "        music_chords.append(chord.Chord(chord_pitches))\n",
        "    self.chords_generated = music_chords\n",
        "    return self.chords_generated\n",
        "\n",
        "  def listen_chords(self):\n",
        "    chords_generated = self.chords_generated\n",
        "    score = stream.Score()\n",
        "    score.metadata = metadata.Metadata(title='Chord Progression')\n",
        "    part = stream.Part()\n",
        "    for cg in chords_generated:\n",
        "      part.append(cg)\n",
        "    score.append(part)\n",
        "    score.show('midi')"
      ],
      "metadata": {
        "id": "x1obYr1TAkMf"
      },
      "execution_count": 3,
      "outputs": []
    },
    {
      "cell_type": "code",
      "source": [
        "L_system(axiom=axiom, rules=rules, iter=5, listen=True)"
      ],
      "metadata": {
        "colab": {
          "base_uri": "https://localhost:8080/",
          "height": 239
        },
        "id": "hsJVj3nKD9-i",
        "outputId": "817c7b0c-0b38-4f64-a282-60b335c01734"
      },
      "execution_count": 4,
      "outputs": [
        {
          "output_type": "stream",
          "name": "stdout",
          "text": [
            "level 1 output GFD\n",
            "level 2 output GGFDD\n",
            "level 3 output GGGFDDD\n",
            "level 4 output GGGGFDDDD\n",
            "level 5 output GGGGGFDDDDD\n"
          ]
        },
        {
          "output_type": "display_data",
          "data": {
            "text/plain": [
              "<IPython.core.display.HTML object>"
            ],
            "text/html": [
              "\n",
              "        <div id=\"midiPlayerDiv68\"></div>\n",
              "        <link rel=\"stylesheet\" href=\"https://cuthbertLab.github.io/music21j/css/m21.css\">\n",
              "        \n",
              "        <script\n",
              "        src=\"https://cdnjs.cloudflare.com/ajax/libs/require.js/2.3.6/require.min.js\"\n",
              "        ></script>\n",
              "    \n",
              "        <script>\n",
              "        function midiPlayerDiv68_play() {\n",
              "            const rq = require.config({\n",
              "                paths: {\n",
              "                    'music21': 'https://cuthbertLab.github.io/music21j/releases/music21.debug',\n",
              "                }\n",
              "            });\n",
              "            rq(['music21'], function(music21) {\n",
              "                mp = new music21.miditools.MidiPlayer();\n",
              "                mp.addPlayer(\"#midiPlayerDiv68\");\n",
              "                mp.base64Load(\"data:audio/midi;base64,TVRoZAAAAAYAAQACJ2BNVHJrAAAAFAD/UQMHoSAA/1gEBAIYCM5g/y8ATVRyawAAASEA/wMAAOAAQM5gkENaAJBHWgCQPlrOYIBDAACARwAAgD4AAJBDWgCQR1oAkD5azmCAQwAAgEcAAIA+AACQQ1oAkEdaAJA+Ws5ggEMAAIBHAACAPgAAkENaAJBHWgCQPlrOYIBDAACARwAAgD4AAJBDWgCQR1oAkD5azmCAQwAAgEcAAIA+AACQQVoAkEVaAJA8Ws5ggEEAAIBFAACAPAAAkD5aAJBBWgCQRVrOYIA+AACAQQAAgEUAAJA+WgCQQVoAkEVazmCAPgAAgEEAAIBFAACQPloAkEFaAJBFWs5ggD4AAIBBAACARQAAkD5aAJBBWgCQRVrOYIA+AACAQQAAgEUAAJA+WgCQQVoAkEVazmCAPgAAgEEAAIBFAM5g/y8A\");\n",
              "            });\n",
              "        }\n",
              "        if (typeof require === 'undefined') {\n",
              "            setTimeout(midiPlayerDiv68_play, 2000);\n",
              "        } else {\n",
              "            midiPlayerDiv68_play();\n",
              "        }\n",
              "        </script>"
            ]
          },
          "metadata": {}
        },
        {
          "output_type": "execute_result",
          "data": {
            "text/plain": [
              "<__main__.L_system at 0x7cbede1c2470>"
            ]
          },
          "metadata": {},
          "execution_count": 4
        }
      ]
    },
    {
      "cell_type": "code",
      "source": [
        ""
      ],
      "metadata": {
        "id": "j2LALruqGowF"
      },
      "execution_count": null,
      "outputs": []
    }
  ]
}